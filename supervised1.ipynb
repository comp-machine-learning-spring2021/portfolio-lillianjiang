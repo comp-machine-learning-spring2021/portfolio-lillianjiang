{
 "cells": [
  {
   "cell_type": "code",
   "execution_count": 2,
   "id": "charged-brighton",
   "metadata": {},
   "outputs": [],
   "source": [
    "import numpy as np\n",
    "import pandas as pd\n",
    "import matplotlib.pyplot as plt"
   ]
  },
  {
   "cell_type": "code",
   "execution_count": 5,
   "id": "suspended-michigan",
   "metadata": {},
   "outputs": [],
   "source": [
    "gaia = pd.read_csv('data/confirmed_mydata.csv', comment='#')\n",
    "gaia_new = gaia.loc[:,['pl_orbper','pl_bmassj','pl_radj']]\n",
    "gaia_np = gaia_new.to_numpy()\n",
    "gaia_num = gaia.loc[:,['pl_orbper','pl_orbsmax','pl_orbeccen','pl_orbincl','pl_bmassj','pl_radj']]\n",
    "gaia_np = gaia_new.to_numpy()"
   ]
  },
  {
   "cell_type": "code",
   "execution_count": 8,
   "id": "wanted-store",
   "metadata": {},
   "outputs": [
    {
     "data": {
      "text/plain": [
       "pl_orbper        0\n",
       "pl_orbsmax     112\n",
       "pl_orbeccen    102\n",
       "pl_orbincl      92\n",
       "pl_bmassj        0\n",
       "pl_radj          0\n",
       "dtype: int64"
      ]
     },
     "execution_count": 8,
     "metadata": {},
     "output_type": "execute_result"
    }
   ],
   "source": [
    "gaia_num.isna().sum()"
   ]
  },
  {
   "cell_type": "code",
   "execution_count": 11,
   "id": "outdoor-format",
   "metadata": {},
   "outputs": [
    {
     "data": {
      "text/plain": [
       "pl_orbper      0\n",
       "pl_orbsmax     0\n",
       "pl_orbeccen    0\n",
       "pl_orbincl     0\n",
       "pl_bmassj      0\n",
       "pl_radj        0\n",
       "dtype: int64"
      ]
     },
     "execution_count": 11,
     "metadata": {},
     "output_type": "execute_result"
    }
   ],
   "source": [
    "gaia_num_new = gaia_num.dropna()\n",
    "gaia_num_new.isna().sum()"
   ]
  },
  {
   "cell_type": "code",
   "execution_count": 13,
   "id": "parliamentary-class",
   "metadata": {},
   "outputs": [
    {
     "data": {
      "text/plain": [
       "(293, 6)"
      ]
     },
     "execution_count": 13,
     "metadata": {},
     "output_type": "execute_result"
    }
   ],
   "source": [
    "gaia_num.shape"
   ]
  },
  {
   "cell_type": "code",
   "execution_count": null,
   "id": "official-toddler",
   "metadata": {},
   "outputs": [],
   "source": []
  }
 ],
 "metadata": {
  "kernelspec": {
   "display_name": "Python 3",
   "language": "python",
   "name": "python3"
  },
  "language_info": {
   "codemirror_mode": {
    "name": "ipython",
    "version": 3
   },
   "file_extension": ".py",
   "mimetype": "text/x-python",
   "name": "python",
   "nbconvert_exporter": "python",
   "pygments_lexer": "ipython3",
   "version": "3.7.9"
  }
 },
 "nbformat": 4,
 "nbformat_minor": 5
}
