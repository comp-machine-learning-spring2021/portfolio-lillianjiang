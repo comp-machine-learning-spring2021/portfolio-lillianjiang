{
 "cells": [
  {
   "cell_type": "markdown",
   "id": "south-spelling",
   "metadata": {},
   "source": [
    "# Linear Model: Make Predictions for Missing Orbit Semi-Major Axis"
   ]
  },
  {
   "cell_type": "markdown",
   "id": "narrow-consumer",
   "metadata": {},
   "source": [
    "## Part 1: Data Processing"
   ]
  },
  {
   "cell_type": "code",
   "execution_count": 64,
   "id": "senior-surveillance",
   "metadata": {},
   "outputs": [
    {
     "data": {
      "text/plain": [
       "pl_orbper       0\n",
       "pl_bmassj       0\n",
       "pl_radj         0\n",
       "pl_orbsmax    570\n",
       "dtype: int64"
      ]
     },
     "execution_count": 64,
     "metadata": {},
     "output_type": "execute_result"
    }
   ],
   "source": [
    "# import packages and data\n",
    "import numpy as np\n",
    "import pandas as pd\n",
    "from sklearn import linear_model\n",
    "\n",
    "# Orbit period, mass, radii, and orbital semi-major axis\n",
    "gaia = pd.read_csv('../data/confirmed_transit.csv', comment='#')\n",
    "gaia_new = gaia.loc[:,['pl_orbper','pl_bmassj','pl_radj','pl_orbsmax']]\n",
    "gaia_np = gaia_new.to_numpy()\n",
    "gaia_new.isna().sum()"
   ]
  },
  {
   "cell_type": "code",
   "execution_count": 66,
   "id": "frank-chest",
   "metadata": {},
   "outputs": [
    {
     "data": {
      "text/html": [
       "<div>\n",
       "<style scoped>\n",
       "    .dataframe tbody tr th:only-of-type {\n",
       "        vertical-align: middle;\n",
       "    }\n",
       "\n",
       "    .dataframe tbody tr th {\n",
       "        vertical-align: top;\n",
       "    }\n",
       "\n",
       "    .dataframe thead th {\n",
       "        text-align: right;\n",
       "    }\n",
       "</style>\n",
       "<table border=\"1\" class=\"dataframe\">\n",
       "  <thead>\n",
       "    <tr style=\"text-align: right;\">\n",
       "      <th></th>\n",
       "      <th>pl_orbper</th>\n",
       "      <th>pl_bmassj</th>\n",
       "      <th>pl_radj</th>\n",
       "      <th>pl_orbsmax</th>\n",
       "    </tr>\n",
       "  </thead>\n",
       "  <tbody>\n",
       "    <tr>\n",
       "      <th>2</th>\n",
       "      <td>41.685500</td>\n",
       "      <td>0.07000</td>\n",
       "      <td>0.230</td>\n",
       "      <td>NaN</td>\n",
       "    </tr>\n",
       "    <tr>\n",
       "      <th>7</th>\n",
       "      <td>1.508956</td>\n",
       "      <td>1.03000</td>\n",
       "      <td>1.490</td>\n",
       "      <td>NaN</td>\n",
       "    </tr>\n",
       "    <tr>\n",
       "      <th>38</th>\n",
       "      <td>1.742997</td>\n",
       "      <td>3.31000</td>\n",
       "      <td>1.414</td>\n",
       "      <td>NaN</td>\n",
       "    </tr>\n",
       "    <tr>\n",
       "      <th>66</th>\n",
       "      <td>4.256800</td>\n",
       "      <td>21.66000</td>\n",
       "      <td>1.010</td>\n",
       "      <td>NaN</td>\n",
       "    </tr>\n",
       "    <tr>\n",
       "      <th>81</th>\n",
       "      <td>0.854000</td>\n",
       "      <td>0.01447</td>\n",
       "      <td>0.141</td>\n",
       "      <td>NaN</td>\n",
       "    </tr>\n",
       "  </tbody>\n",
       "</table>\n",
       "</div>"
      ],
      "text/plain": [
       "    pl_orbper  pl_bmassj  pl_radj  pl_orbsmax\n",
       "2   41.685500    0.07000    0.230         NaN\n",
       "7    1.508956    1.03000    1.490         NaN\n",
       "38   1.742997    3.31000    1.414         NaN\n",
       "66   4.256800   21.66000    1.010         NaN\n",
       "81   0.854000    0.01447    0.141         NaN"
      ]
     },
     "execution_count": 66,
     "metadata": {},
     "output_type": "execute_result"
    }
   ],
   "source": [
    "# Drop the Nah rows and save the Nah rows to a new dataframe for future use\n",
    "gaia_new_nonah = gaia_new.dropna()\n",
    "gaia_unknowns = pd.concat([gaia_new,gaia_new_nonah]).drop_duplicates(keep=False)\n",
    "gaia_new_nonah = gaia_new_nonah.to_numpy()\n",
    "gaia_unknowns_np = gaia_unknowns.to_numpy()\n",
    "gaia_unknowns.head()"
   ]
  },
  {
   "cell_type": "markdown",
   "id": "multiple-rough",
   "metadata": {},
   "source": [
    "## Part 2: Find the true relationship for Orbit Semi-Axis\n",
    "Now use kfold_CV to determine the shape of the \"true\" relationship for orbit Semi-Axis. We consider all possible combinations."
   ]
  },
  {
   "cell_type": "code",
   "execution_count": 6,
   "id": "fitted-simpson",
   "metadata": {},
   "outputs": [],
   "source": [
    "# Helper function to compute the error between truth values and prediction\n",
    "def compute_mse(truth_vec, predict_vec):\n",
    "    return np.mean((truth_vec - predict_vec)**2)"
   ]
  },
  {
   "cell_type": "code",
   "execution_count": 38,
   "id": "atomic-street",
   "metadata": {},
   "outputs": [],
   "source": [
    "# K folds of cross validation\n",
    "def kfold_CV(data, col_names, inputs, output, k):\n",
    "    n_data = data.shape[0]\n",
    "    test_errors=[]\n",
    "    \n",
    "    for i in range(k):\n",
    "        #split data into train and test\n",
    "        test_ind = list(np.arange(int(n_data*i/k),int(n_data*(i+1)/k)))\n",
    "        test_data = data[test_ind,:]\n",
    "        train_ind = list(set(range(n_data)).difference(set(test_ind)))\n",
    "        train_data = data[train_ind,:]\n",
    "        \n",
    "        # map inputs and output col into integer\n",
    "        input_index = []\n",
    "        for elem in inputs:\n",
    "            input_index.append(col_names.index(elem))\n",
    "        output_index = col_names.index(output)\n",
    "        \n",
    "        #fit model to training dataset\n",
    "        lm = linear_model.LinearRegression()\n",
    "        mod = lm.fit(train_data[:,input_index],train_data[:,output_index])\n",
    "        \n",
    "        #compute the testing error and add it to the list of testing errors\n",
    "        test_preds = mod.predict(test_data[:,input_index])\n",
    "        test_error = compute_mse(test_preds,test_data[:,output_index])\n",
    "        test_errors.append(test_error)\n",
    "    \n",
    "    # Compute tehe cross-val error\n",
    "    cross_val_error = np.mean(test_errors)\n",
    "    return cross_val_error.astype(float)"
   ]
  },
  {
   "cell_type": "code",
   "execution_count": 51,
   "id": "domestic-alfred",
   "metadata": {},
   "outputs": [
    {
     "name": "stdout",
     "output_type": "stream",
     "text": [
      "OP            : 0.023262732438269016\n",
      "MASS          : 0.03310199549731842\n",
      "RADII         : 0.032391992727619424\n",
      "OP+MASS       : 0.02329911906411873\n",
      "OP+RADII      : 0.022166508371421832\n",
      "MASS+RADII    : 0.03211421662981265\n",
      "OP+MASS+RADII : 0.022189014328411312\n"
     ]
    }
   ],
   "source": [
    "# Column names\n",
    "cols=['pl_orbper','pl_bmassj','pl_radj','pl_orbsmax']\n",
    "\n",
    "# Find the smallest error -> the best relationship for describing orbit semi-axis\n",
    "print(\"OP            :\", kfold_CV(gaia_new_nonah,cols,['pl_orbper'],'pl_orbsmax',10))\n",
    "print(\"MASS          :\", kfold_CV(gaia_new_nonah,cols,['pl_bmassj'],'pl_orbsmax',10))\n",
    "print(\"RADII         :\", kfold_CV(gaia_new_nonah,cols,['pl_radj'],'pl_orbsmax',10))\n",
    "print(\"OP+MASS       :\", kfold_CV(gaia_new_nonah,cols,['pl_orbper','pl_bmassj'],'pl_orbsmax',10))\n",
    "print(\"OP+RADII      :\", kfold_CV(gaia_new_nonah,cols,['pl_orbper','pl_radj'],'pl_orbsmax',10))\n",
    "print(\"MASS+RADII    :\", kfold_CV(gaia_new_nonah,cols,['pl_bmassj','pl_radj'],'pl_orbsmax',10))\n",
    "print(\"OP+MASS+RADII :\", kfold_CV(gaia_new_nonah,cols,['pl_orbper','pl_bmassj','pl_radj'],'pl_orbsmax',10))"
   ]
  },
  {
   "cell_type": "markdown",
   "id": "spare-hindu",
   "metadata": {},
   "source": [
    "The lowest error come from the combination of orbital period and planet radii."
   ]
  },
  {
   "cell_type": "markdown",
   "id": "selective-group",
   "metadata": {},
   "source": [
    "# Part 3: Determine the full model"
   ]
  },
  {
   "cell_type": "code",
   "execution_count": 60,
   "id": "twenty-backing",
   "metadata": {},
   "outputs": [],
   "source": [
    "# run the full model with orbit period and radii\n",
    "lm_full = linear_model.LinearRegression()\n",
    "mod_full = lm_full.fit(gaia_new_nonah[:,[0,2]],gaia_new_nonah[:,3])\n",
    "\n",
    "# Predict the orbit major-axis\n",
    "pl_orbsmax_nah = mod_full.predict(gaia_unknowns_np[:,[0,2]])"
   ]
  },
  {
   "cell_type": "code",
   "execution_count": 83,
   "id": "revised-situation",
   "metadata": {},
   "outputs": [
    {
     "data": {
      "text/html": [
       "<div>\n",
       "<style scoped>\n",
       "    .dataframe tbody tr th:only-of-type {\n",
       "        vertical-align: middle;\n",
       "    }\n",
       "\n",
       "    .dataframe tbody tr th {\n",
       "        vertical-align: top;\n",
       "    }\n",
       "\n",
       "    .dataframe thead th {\n",
       "        text-align: right;\n",
       "    }\n",
       "</style>\n",
       "<table border=\"1\" class=\"dataframe\">\n",
       "  <thead>\n",
       "    <tr style=\"text-align: right;\">\n",
       "      <th></th>\n",
       "      <th>pl_orbper</th>\n",
       "      <th>pl_bmassj</th>\n",
       "      <th>pl_radj</th>\n",
       "      <th>pl_orbsmax</th>\n",
       "    </tr>\n",
       "  </thead>\n",
       "  <tbody>\n",
       "    <tr>\n",
       "      <th>2</th>\n",
       "      <td>41.685500</td>\n",
       "      <td>0.07000</td>\n",
       "      <td>0.230</td>\n",
       "      <td>0.149298</td>\n",
       "    </tr>\n",
       "    <tr>\n",
       "      <th>7</th>\n",
       "      <td>1.508956</td>\n",
       "      <td>1.03000</td>\n",
       "      <td>1.490</td>\n",
       "      <td>0.044130</td>\n",
       "    </tr>\n",
       "    <tr>\n",
       "      <th>38</th>\n",
       "      <td>1.742997</td>\n",
       "      <td>3.31000</td>\n",
       "      <td>1.414</td>\n",
       "      <td>0.047238</td>\n",
       "    </tr>\n",
       "    <tr>\n",
       "      <th>66</th>\n",
       "      <td>4.256800</td>\n",
       "      <td>21.66000</td>\n",
       "      <td>1.010</td>\n",
       "      <td>0.065633</td>\n",
       "    </tr>\n",
       "    <tr>\n",
       "      <th>81</th>\n",
       "      <td>0.854000</td>\n",
       "      <td>0.01447</td>\n",
       "      <td>0.141</td>\n",
       "      <td>0.092180</td>\n",
       "    </tr>\n",
       "  </tbody>\n",
       "</table>\n",
       "</div>"
      ],
      "text/plain": [
       "    pl_orbper  pl_bmassj  pl_radj  pl_orbsmax\n",
       "2   41.685500    0.07000    0.230    0.149298\n",
       "7    1.508956    1.03000    1.490    0.044130\n",
       "38   1.742997    3.31000    1.414    0.047238\n",
       "66   4.256800   21.66000    1.010    0.065633\n",
       "81   0.854000    0.01447    0.141    0.092180"
      ]
     },
     "execution_count": 83,
     "metadata": {},
     "output_type": "execute_result"
    }
   ],
   "source": [
    "# Combine the regression results back to dataframe\n",
    "m = gaia_unknowns['pl_orbsmax'].isna()\n",
    "gaia_unknowns.loc[m,'pl_orbsmax'] = pl_orbsmax_nah\n",
    "gaia_unknowns.head()"
   ]
  },
  {
   "cell_type": "markdown",
   "id": "pleased-ottawa",
   "metadata": {},
   "source": [
    "Now we have a prediction for Orbit Semi-Major Axis based on our best relationship!"
   ]
  }
 ],
 "metadata": {
  "kernelspec": {
   "display_name": "Python 3",
   "language": "python",
   "name": "python3"
  },
  "language_info": {
   "codemirror_mode": {
    "name": "ipython",
    "version": 3
   },
   "file_extension": ".py",
   "mimetype": "text/x-python",
   "name": "python",
   "nbconvert_exporter": "python",
   "pygments_lexer": "ipython3",
   "version": "3.7.9"
  }
 },
 "nbformat": 4,
 "nbformat_minor": 5
}
